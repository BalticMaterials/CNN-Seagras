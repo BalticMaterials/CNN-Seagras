{
 "cells": [
  {
   "cell_type": "code",
   "execution_count": 3,
   "metadata": {},
   "outputs": [],
   "source": [
    "from pathlib import Path\n",
    "from PIL import Image\n",
    "import numpy as np"
   ]
  },
  {
   "cell_type": "code",
   "execution_count": 18,
   "metadata": {},
   "outputs": [
    {
     "name": "stdout",
     "output_type": "stream",
     "text": [
      "34915351 645225449\n",
      "Ones: 0.0513354749487165\n",
      "Zeros: 0.9486645250512835\n",
      "images: 82\n"
     ]
    }
   ],
   "source": [
    "dir_path = Path(\"./data/train_masks/\")\n",
    "files = list(dir_path.glob(\"*.jpg\"))\n",
    "\n",
    "i = 0\n",
    "ones, zeros, all = 0, 0, 0\n",
    "for file in files: \n",
    "    i += 1\n",
    "    arr = np.array(Image.open(file).convert(\"L\"), dtype=np.float32)\n",
    "    arr[arr <= 50] = 0\n",
    "    arr[arr >= 200.0] = 1.0\n",
    "    ones += np.count_nonzero(arr == 1)\n",
    "    zeros += np.count_nonzero(arr == 0)\n",
    "    all += len(arr.flatten())\n",
    "    assert all == ones + zeros    \n",
    "print(ones, zeros)\n",
    "print(f\"Ones: {ones / all}\")\n",
    "print(f\"Zeros: {zeros / all}\")\n",
    "print(f\"images: {i}\")\n",
    "\n",
    "# Currently 1 : 18,47971\n"
   ]
  }
 ],
 "metadata": {
  "kernelspec": {
   "display_name": ".venv",
   "language": "python",
   "name": "python3"
  },
  "language_info": {
   "codemirror_mode": {
    "name": "ipython",
    "version": 3
   },
   "file_extension": ".py",
   "mimetype": "text/x-python",
   "name": "python",
   "nbconvert_exporter": "python",
   "pygments_lexer": "ipython3",
   "version": "3.10.7"
  },
  "orig_nbformat": 4
 },
 "nbformat": 4,
 "nbformat_minor": 2
}
