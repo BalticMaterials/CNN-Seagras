{
 "cells": [
  {
   "cell_type": "code",
   "execution_count": 3,
   "metadata": {},
   "outputs": [],
   "source": [
    "from PIL import ImageOps, Image\n",
    "import os"
   ]
  },
  {
   "cell_type": "code",
   "execution_count": 8,
   "metadata": {},
   "outputs": [
    {
     "name": "stderr",
     "output_type": "stream",
     "text": [
      "C:\\Users\\Sven\\AppData\\Local\\Temp\\ipykernel_9088\\3695262451.py:11: DeprecationWarning: ANTIALIAS is deprecated and will be removed in Pillow 10 (2023-07-01). Use LANCZOS or Resampling.LANCZOS instead.\n",
      "  ImageOps.fit(f, size, Image.ANTIALIAS).save(output + \"_fit_antialias.jpg\")\n"
     ]
    }
   ],
   "source": [
    "size = (240, 160)\n",
    "path = \"./data/train_images/1.jpg\"\n",
    "output = \"./data/\"\n",
    "with Image.open(path, 'r').convert('RGB') as f:\n",
    "    ImageOps.fit(f, size, Image.NEAREST).save(output + \"_fit_nearest.jpg\")\n",
    "    ImageOps.fit(f, size, Image.BOX).save(output + \"_fit_box.jpg\")\n",
    "    ImageOps.fit(f, size, Image.BILINEAR).save(output + \"_fit_bilinear.jpg\")\n",
    "    ImageOps.fit(f, size, Image.HAMMING).save(output + \"_fit_hamming.jpg\")\n",
    "    ImageOps.fit(f, size, Image.BICUBIC).save(output + \"_fit_bicubic.jpg\")\n",
    "    ImageOps.fit(f, size, Image.LANCZOS).save(output + \"_fit_lanczos.jpg\")\n",
    "    ImageOps.fit(f, size, Image.ANTIALIAS).save(output + \"_fit_antialias.jpg\")"
   ]
  }
 ],
 "metadata": {
  "kernelspec": {
   "display_name": ".venv",
   "language": "python",
   "name": "python3"
  },
  "language_info": {
   "codemirror_mode": {
    "name": "ipython",
    "version": 3
   },
   "file_extension": ".py",
   "mimetype": "text/x-python",
   "name": "python",
   "nbconvert_exporter": "python",
   "pygments_lexer": "ipython3",
   "version": "3.10.7"
  },
  "orig_nbformat": 4
 },
 "nbformat": 4,
 "nbformat_minor": 2
}
